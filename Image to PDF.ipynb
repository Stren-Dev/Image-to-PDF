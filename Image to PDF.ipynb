{
 "cells": [
  {
   "cell_type": "code",
   "execution_count": null,
   "id": "63130069-ed03-4eca-9527-9812916246cf",
   "metadata": {},
   "outputs": [],
   "source": [
    "pip install img2pdf"
   ]
  },
  {
   "cell_type": "code",
   "execution_count": null,
   "id": "2ec57b68-7b1b-4471-9143-a5e7c122bde9",
   "metadata": {},
   "outputs": [],
   "source": [
    "import os\n",
    "import img2pdf\n",
    "from PIL import Image\n",
    "\n",
    "#Syanx\n",
    "\n",
    "img = \"C:\\\\Users\\\\Strendev\\\\Strendev.png\" # Image Path(Copy full image path) (Directory Path use \\\\ in case of error while useing \\ )// \n",
    "\n",
    "pdf = \"C:\\\\Users\\\\Strendev\\\\Strendev.pdf\" # PDF Path (Directory Path use \\\\ in case of error while useing \\ ) (In  case of Strendev.pdf you can give any name ad username.pdf)\n",
    "\n",
    "\n",
    "image  = Image.open(img)\n",
    "\n",
    "pdf_converted = img2pdf.convert(image.filename)\n",
    "\n",
    "with open(pdf, \"wb\") as file:\n",
    "    file.write(pdf_converted)\n",
    "\n",
    "print(\"PDF Created Successfully \")\n",
    "print(\"# Subscribe to Strendev # https://www.youtube.com/@Strendev # \")"
   ]
  }
 ],
 "metadata": {
  "kernelspec": {
   "display_name": "tfgpu",
   "language": "python",
   "name": "tfgpu"
  },
  "language_info": {
   "codemirror_mode": {
    "name": "ipython",
    "version": 3
   },
   "file_extension": ".py",
   "mimetype": "text/x-python",
   "name": "python",
   "nbconvert_exporter": "python",
   "pygments_lexer": "ipython3",
   "version": "3.10.13"
  }
 },
 "nbformat": 4,
 "nbformat_minor": 5
}
